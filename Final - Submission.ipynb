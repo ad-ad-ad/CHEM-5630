{
 "cells": [
  {
   "cell_type": "code",
   "execution_count": 11,
   "id": "85470a29",
   "metadata": {},
   "outputs": [
    {
     "name": "stdout",
     "output_type": "stream",
     "text": [
      "C:\\Users\\aarti\\OneDrive\\02. UC Denver\\4. Programming\\Final HW\n"
     ]
    }
   ],
   "source": [
    "#Extracting the {MoleculeName} data\n",
    "\n",
    "import os\n",
    "print(os.getcwd())\n",
    "\n",
    "def coordinateextraction(MoleculeName):\n",
    "\n",
    "    #here, we open a log file and put the contents into a variable and then close the file\n",
    "    seffile = open(f'{MoleculeName}.log','r')\n",
    "    sefdata = seffile.readlines()\n",
    "    seffile.close()\n",
    "    \n",
    "    #here we define variables as flags\n",
    "    equilfoundsef = False\n",
    "    coordsfoundsef = False\n",
    "    \n",
    "    #this is our counter that we start after our conditions are met\n",
    "    countersef = 0 \n",
    "    \n",
    "    #this is where we stored the desires lines of data\n",
    "    outputsef = []\n",
    "\n",
    "    #this for loop looks for two landmarks in the file to find the data we want\n",
    "    for lines in sefdata:\n",
    "        if \"EQUILIBRIUM GEOMETRY LOCATED\" in lines:\n",
    "            print(f\"this line is present in {MoleculeName} data\")\n",
    "            equilfoundsef = True\n",
    "        if \"COORDINATES OF ALL ATOMS\" in lines and equilfoundsef:\n",
    "            print(f\"found right coordinates in {MoleculeName} data\")\n",
    "            coordsfoundsef = True\n",
    "        if coordsfoundsef and equilfoundsef and countersef <16: #here we constrain the lines to the region where both flags were found\n",
    "            outputsef.append(lines) #we put the desired lines into an array\n",
    "            countersef += 1\n",
    "\n",
    "    #these lines create the file and store the desired lines of data in the file\n",
    "    seftxt = open(f\"{MoleculeName}.txt\",\"w\") #writing the new file\n",
    "    seftxt.writelines(outputsef[3:]) #putting desired lines into the file\n",
    "    seftxt.close()\n",
    "\n",
    "#This will test one Molecule log file\n",
    "coordinateextraction('SeBr')"
   ]
  },
  {
   "cell_type": "code",
   "execution_count": 1,
   "id": "ebded541",
   "metadata": {},
   "outputs": [
    {
     "name": "stdout",
     "output_type": "stream",
     "text": [
      "['Lys', 'Cys', 'Pro', 'Leu', 'Arg']\n",
      "['Lys', 'Cys', 'Pro', 'Leu', 'Arg', 'Arg', 'Gly', 'Val', 'Leu', 'Asp', 'Lys', 'Pro', 'Gly']\n"
     ]
    }
   ],
   "source": [
    "import os\n",
    "\n",
    "def mRNAtoAA(mRNAstrand):\n",
    "    #these lines define the corresponding amino acid to a codon\n",
    "    mRNAdata = []\n",
    "    mRNAfile = open('mRNA_codon.txt','r')\n",
    "    mRNAdata = mRNAfile.readlines()\n",
    "    mRNAfile.close()\n",
    "#     print(mRNAdata)\n",
    "    DICTmRNAtoAA = {}\n",
    "    for lines in mRNAdata:\n",
    "        codon = lines.split()\n",
    "#         print(codon)\n",
    "        DICTmRNAtoAA[codon[0]] = codon[1]\n",
    "    \n",
    "    #this splits the mRNA strand's bases into groups of three to make the codons    \n",
    "    codon_list = [mRNAstrand[i:i+3] for i in range(0,len(mRNAstrand),3)]\n",
    "    \n",
    "    #these lines translate the given codon to the corresponding amino acid\n",
    "    AminoAcid = []\n",
    "    for item in codon_list:\n",
    "        AminoAcid.append(DICTmRNAtoAA[item])\n",
    "        \n",
    "    #this displays the amino acid sequence\n",
    "    print(AminoAcid)\n",
    "    \n",
    "#Here are two example mRNA strands\n",
    "mRNAtoAA(mRNAstrand='AAAUGUCCCUUGCGA')\n",
    "mRNAtoAA(mRNAstrand='AAAUGUCCCUUGCGAAGGGGUGUGCUCGACAAACCCGGG')"
   ]
  },
  {
   "cell_type": "code",
   "execution_count": 14,
   "id": "abdb76d6",
   "metadata": {},
   "outputs": [
    {
     "name": "stdout",
     "output_type": "stream",
     "text": [
      "['G', 'A', 'G', 'C', 'T', 'A', 'C', 'G', 'A', 'C', 'T', 'G', 'A']\n"
     ]
    }
   ],
   "source": [
    "#This function returns the complementary sequence to a given DNA strand of bases\n",
    "#It also provides the complementary strand in a new text file\n",
    "#The title of the new text file is the given/input DNA sequence\n",
    "\n",
    "def complementDNA(DNAstrand):\n",
    "    \n",
    "    #these lines define the complementary base that pairs with a given base\n",
    "    DNAdata = []\n",
    "    DNAfile = open('DNAbp.txt','r')\n",
    "    DNAdata = DNAfile.readlines()\n",
    "    DNAfile.close()\n",
    "    DICTcpmDNA = {}\n",
    "    for lines in DNAdata:\n",
    "        bp = lines.split()\n",
    "        DICTcpmDNA[bp[0]] = bp[1]\n",
    "        \n",
    "    #these lines translate the given bases to the complementary bases\n",
    "    cmpDNA = []\n",
    "    for item in DNAstrand:\n",
    "        cmpDNA.append(DICTcpmDNA[item])\n",
    "        \n",
    "    #this line prints out the complementary strand\n",
    "    print(cmpDNA)\n",
    "    \n",
    "    #these lines write the complementary strand to a text file\n",
    "    cmpDNAtxt = open(f\"{DNAstrand}.txt\",'w')\n",
    "    cmpDNAtxt.writelines(cmpDNA)\n",
    "    cmpDNAtxt.close()\n",
    "\n",
    "complementDNA('CTCGATGCTGACT')\n"
   ]
  }
 ],
 "metadata": {
  "kernelspec": {
   "display_name": "Python 3 (ipykernel)",
   "language": "python",
   "name": "python3"
  },
  "language_info": {
   "codemirror_mode": {
    "name": "ipython",
    "version": 3
   },
   "file_extension": ".py",
   "mimetype": "text/x-python",
   "name": "python",
   "nbconvert_exporter": "python",
   "pygments_lexer": "ipython3",
   "version": "3.9.7"
  }
 },
 "nbformat": 4,
 "nbformat_minor": 5
}
